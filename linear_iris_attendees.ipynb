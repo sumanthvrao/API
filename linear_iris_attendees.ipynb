{
  "nbformat": 4,
  "nbformat_minor": 0,
  "metadata": {
    "colab": {
      "name": "linear-iris-attendees",
      "version": "0.3.2",
      "provenance": [],
      "collapsed_sections": [],
      "include_colab_link": true
    },
    "kernelspec": {
      "name": "python3",
      "display_name": "Python 3"
    }
  },
  "cells": [
    {
      "cell_type": "markdown",
      "metadata": {
        "id": "view-in-github",
        "colab_type": "text"
      },
      "source": [
        "<a href=\"https://colab.research.google.com/github/sumanthvrao/API/blob/master/linear_iris_attendees.ipynb\" target=\"_parent\"><img src=\"https://colab.research.google.com/assets/colab-badge.svg\" alt=\"Open In Colab\"/></a>"
      ]
    },
    {
      "metadata": {
        "id": "_R94vyl3kmu5",
        "colab_type": "code",
        "colab": {}
      },
      "cell_type": "code",
      "source": [
        "%matplotlib inline\n",
        "import numpy as np\n",
        "import matplotlib.pyplot as plt\n",
        "from sklearn.datasets import load_iris\n",
        "import pandas as pd"
      ],
      "execution_count": 0,
      "outputs": []
    },
    {
      "metadata": {
        "id": "AIy8YxbKkyLq",
        "colab_type": "code",
        "outputId": "4d798849-3335-40f2-d799-e38d387ba7f7",
        "colab": {
          "base_uri": "https://localhost:8080/",
          "height": 204
        }
      },
      "cell_type": "code",
      "source": [
        "data = load_iris()\n",
        "\n",
        "df = pd.DataFrame(data.data[:,:2], columns=[\"sepal_length\",\"sepal_width\"])\n",
        "df.head()"
      ],
      "execution_count": 0,
      "outputs": [
        {
          "output_type": "execute_result",
          "data": {
            "text/html": [
              "<div>\n",
              "<style scoped>\n",
              "    .dataframe tbody tr th:only-of-type {\n",
              "        vertical-align: middle;\n",
              "    }\n",
              "\n",
              "    .dataframe tbody tr th {\n",
              "        vertical-align: top;\n",
              "    }\n",
              "\n",
              "    .dataframe thead th {\n",
              "        text-align: right;\n",
              "    }\n",
              "</style>\n",
              "<table border=\"1\" class=\"dataframe\">\n",
              "  <thead>\n",
              "    <tr style=\"text-align: right;\">\n",
              "      <th></th>\n",
              "      <th>sepal_length</th>\n",
              "      <th>sepal_width</th>\n",
              "    </tr>\n",
              "  </thead>\n",
              "  <tbody>\n",
              "    <tr>\n",
              "      <th>0</th>\n",
              "      <td>5.1</td>\n",
              "      <td>3.5</td>\n",
              "    </tr>\n",
              "    <tr>\n",
              "      <th>1</th>\n",
              "      <td>4.9</td>\n",
              "      <td>3.0</td>\n",
              "    </tr>\n",
              "    <tr>\n",
              "      <th>2</th>\n",
              "      <td>4.7</td>\n",
              "      <td>3.2</td>\n",
              "    </tr>\n",
              "    <tr>\n",
              "      <th>3</th>\n",
              "      <td>4.6</td>\n",
              "      <td>3.1</td>\n",
              "    </tr>\n",
              "    <tr>\n",
              "      <th>4</th>\n",
              "      <td>5.0</td>\n",
              "      <td>3.6</td>\n",
              "    </tr>\n",
              "  </tbody>\n",
              "</table>\n",
              "</div>"
            ],
            "text/plain": [
              "   sepal_length  sepal_width\n",
              "0           5.1          3.5\n",
              "1           4.9          3.0\n",
              "2           4.7          3.2\n",
              "3           4.6          3.1\n",
              "4           5.0          3.6"
            ]
          },
          "metadata": {
            "tags": []
          },
          "execution_count": 109
        }
      ]
    },
    {
      "metadata": {
        "id": "oCoQTdcQqeec",
        "colab_type": "code",
        "colab": {}
      },
      "cell_type": "code",
      "source": [
        "# Helper functons\n",
        "\n",
        "def prepare_feature_matrix(df):\n",
        "  X = df.sepal_length.iloc[0:50].values.reshape(50,1)\n",
        "  Xnew = np.hstack((np.ones((50,1)),X))\n",
        "  return Xnew\n",
        "\n",
        "def prepare_target_matrix(df):\n",
        "  return df.sepal_width.iloc[0:50].values.reshape(50,1)\n",
        "\n",
        "\n",
        "def calculate_loss(X,Y,theta):\n",
        "  return (1/(2*m))*np.sum((np.dot(X,theta.T)-Y)**2)\n",
        "\n",
        "def gradient_descent(t0,t1,X,theta,learning_rate):\n",
        "  temp0 = (learning_rate/m)*np.sum(np.dot(X,theta.T)-Y) \n",
        "  temp1 = (learning_rate/m)*np.sum((np.dot(X,theta.T)-Y)*X)\n",
        "  t0 -= temp0\n",
        "  t1 -= temp1\n",
        "  return t0,t1\n",
        "\n",
        "def predict(x,theta):\n",
        "  return theta[0,0] + theta[0,1]*x"
      ],
      "execution_count": 0,
      "outputs": []
    },
    {
      "metadata": {
        "id": "gl-aiy4MNduj",
        "colab_type": "code",
        "colab": {}
      },
      "cell_type": "code",
      "source": [
        "# Write your main code here\n",
        "\n",
        "\n",
        "\n",
        "\n",
        "\n",
        "\n",
        "\n",
        "\n",
        "\n",
        "\n",
        "\n",
        "\n",
        "\n",
        "\n",
        "\n"
      ],
      "execution_count": 0,
      "outputs": []
    },
    {
      "metadata": {
        "id": "XAbg5UQfjnSB",
        "colab_type": "code",
        "colab": {}
      },
      "cell_type": "code",
      "source": [
        "plt.plot(np.arange(iters),J)\n",
        "plt.xlabel('Number of iterations',color='red')\n",
        "plt.ylabel('Cost',color='red')\n",
        "plt.title('Cost vs iterations',color='green')\n",
        "plt.show()"
      ],
      "execution_count": 0,
      "outputs": []
    },
    {
      "metadata": {
        "id": "wePPuHC-mG7w",
        "colab_type": "code",
        "colab": {}
      },
      "cell_type": "code",
      "source": [
        "print('Updated theta after Gradient Descent:',theta)\n",
        "plt.scatter(X[:,1],Y,marker='.')\n",
        "plt.plot(X[:,1],np.dot(X,theta.T))\n",
        "plt.xlabel('Sepal width')\n",
        "plt.ylabel('Sepal length')\n",
        "plt.title('Sepal length vs width of Iris-Setosa Species',color='green')\n",
        "plt.show()"
      ],
      "execution_count": 0,
      "outputs": []
    }
  ]
}